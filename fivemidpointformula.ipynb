{
 "cells": [
  {
   "cell_type": "markdown",
   "id": "adjustable-fruit",
   "metadata": {},
   "source": [
    "[![Open In Colab](https://colab.research.google.com/assets/colab-badge.svg)](https://colab.research.google.com/github/googlecolab/colabtools/blob/master/notebooks/colab-github-demo.ipynb)"
   ]
  },
  {
   "cell_type": "markdown",
   "id": "enhanced-weapon",
   "metadata": {},
   "source": [
    "# Description\n",
    "\n",
    "Code below shows how accurate five midpoint formula estimates derivative. We can specify the error bound for the estimate by comparing with exact estimate.\n",
    "\n",
    "I choose sin^2x 5th derivative for calculation."
   ]
  },
  {
   "cell_type": "markdown",
   "id": "polyphonic-project",
   "metadata": {},
   "source": [
    "# Formula variable\n",
    "\n",
    "x is the 0.1 radian\n",
    "For h, choose h=0.01\n",
    "\n",
    "Fifth derivative of sin^2(x) is 32sin(x)cos(x)\n",
    "for the error I choose value between 0.08 and 0.12 and i choose 0.08"
   ]
  },
  {
   "cell_type": "code",
   "execution_count": 2,
   "id": "enclosed-breakfast",
   "metadata": {},
   "outputs": [
    {
     "name": "stdout",
     "output_type": "stream",
     "text": [
      "Five midpoint formula gives us answer  0.19866932978652377\n",
      "Exact value 0.19866933079506124\n",
      "difference is 1.0085374757551335e-09\n"
     ]
    }
   ],
   "source": [
    "import numpy as np\n",
    "\n",
    "#value for h on the formula 0.01\n",
    "h=0.01\n",
    "\n",
    "#radian value x=0.1\n",
    "x=0.1\n",
    "\n",
    "#determining the error part of the formula\n",
    "error=((32*np.sin(0.08)*np.cos(0.08))*((0.01)**5))/5\n",
    "\n",
    "#function gives first derivative using five point midpoint formula\n",
    "f=((1/(12*h))*(((np.sin(x-(2*h)))**2)-(8*(np.sin((x-h)))**2)+(8*(np.sin(x+h))**2)-(np.sin(x+(2*h)))**2))+error\n",
    "print(\"Five midpoint formula gives us answer \", f)\n",
    "\n",
    "#exact value using numpy \n",
    "exactValue = (np.cos(.1))*(np.sin(.1))*2\n",
    "print (\"Exact value\", exactValue)\n",
    "\n",
    "#the remaining error\n",
    "print(\"difference is\", exactValue-f)\n"
   ]
  },
  {
   "cell_type": "markdown",
   "id": "prerequisite-concord",
   "metadata": {},
   "source": [
    "# Analysis\n",
    "Using the five point mid-point formula i got 0.19866932978652377 \n",
    "\n",
    "Using numpy the first derivative 2sin(x)cos(x)= 0.19866933079506124\n",
    "\n",
    "The error we get is=1.0085374757551335e-09\n",
    "\n",
    "I have tried using 0.09,0.1, 0.11, 0.12 for the error. But it gave me the biggest error. So I used 0.8 for the error as it gave me the smallest difference. The fivepoint midpoint formula gave me fairly close answer to the exact answer. The formula is somewhat accurate for calculation, but not reliable for exact calculation even with adding the extra error formula.  "
   ]
  },
  {
   "cell_type": "markdown",
   "id": "congressional-library",
   "metadata": {},
   "source": [
    "![Title](meme.jpg)"
   ]
  },
  {
   "cell_type": "markdown",
   "id": "small-macedonia",
   "metadata": {},
   "source": []
  }
 ],
 "metadata": {
  "kernelspec": {
   "display_name": "Python 3",
   "language": "python",
   "name": "python3"
  },
  "language_info": {
   "codemirror_mode": {
    "name": "ipython",
    "version": 3
   },
   "file_extension": ".py",
   "mimetype": "text/x-python",
   "name": "python",
   "nbconvert_exporter": "python",
   "pygments_lexer": "ipython3",
   "version": "3.9.2"
  }
 },
 "nbformat": 4,
 "nbformat_minor": 5
}
